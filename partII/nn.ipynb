{
 "cells": [
  {
   "cell_type": "code",
   "execution_count": 1,
   "metadata": {
    "collapsed": true
   },
   "outputs": [],
   "source": [
    "import numpy as np\n",
    "import matplotlib "
   ]
  },
  {
   "cell_type": "code",
   "execution_count": 2,
   "metadata": {
    "collapsed": true
   },
   "outputs": [],
   "source": [
    "# read train_set\n",
    "train_set = []\n",
    "with open('train_set.txt') as f:\n",
    "    content = f.readlines()\n",
    "for i in content:\n",
    "    train_set.append(i.strip().split())\n",
    "train_set = np.array(train_set).astype('float')\n",
    "\n",
    "train_data = train_set[:, 0:5]\n",
    "train_label = train_set[:, 5] # 1d"
   ]
  },
  {
   "cell_type": "code",
   "execution_count": 20,
   "metadata": {
    "collapsed": true
   },
   "outputs": [],
   "source": [
    "def nuerual_network(train_input, weights, bias, train_label, test = False):\n",
    "    '''\n",
    "    train_input: \n",
    "    weights    :\n",
    "    bias       :\n",
    "    train_label:\n",
    "    test       :\n",
    "    '''\n",
    "    Z1, acache1 = af_forward(train_input, weights[0], bias[0])\n",
    "    A1, rcache1 = rl_forward(Z1)\n",
    "    Z2, acache2 = af_forward(A1, weights[1], bias[1])\n",
    "    A2, rcache2 = rl_forward(Z2)\n",
    "    F , acache3 = af_forward(A2, weights[2], bias[2])\n",
    "\n",
    "#     acache1 : 250 * 256, 250 * 5\n",
    "#     acache2 : 250 * 256, 250 * 256\n",
    "#     acache3 : 250 * 3  , 250 * 256\n",
    "    \n",
    "    #test\n",
    "    if test == True:\n",
    "        classification = np.argmax(F, axis=1)\n",
    "        return classification\n",
    "\n",
    "    #loss calculation\n",
    "    loss, dF = cross_entropy(F, train_label)\n",
    "    \n",
    "    dA2, dW3, db3 = af_backward(dF, acache3)\n",
    "    dZ2 = af_backward(dA2, rcache2)\n",
    "    dA1, dW2, db2 = af_backward(dZ2, acache2)\n",
    "    dZ1 = af_backward(dA1, rcache1)\n",
    "    dX, dW1, db1 = af_backward(dZ1, acache1)\n",
    "\n",
    "    #update weight\n",
    "    update(W1, dW1)\n",
    "    update(W2, dW2)\n",
    "    update(W3, dW3)\n",
    "    return loss"
   ]
  },
  {
   "cell_type": "code",
   "execution_count": 21,
   "metadata": {
    "collapsed": true
   },
   "outputs": [],
   "source": [
    "# Affine forward\n",
    "def af_forward(x, weight, bias):\n",
    "    Z = x @ weight + bias\n",
    "    cache = np.copy(x)\n",
    "    return Z, (cache, weight)\n",
    "\n",
    "# ReLU forward\n",
    "def rl_forward(z):\n",
    "    A = np.copy(z)\n",
    "    A[A < 0 ] = 0\n",
    "    cache = np.copy(z)\n",
    "    return A, cache\n",
    "\n",
    "# loss function\n",
    "def cross_entropy(nn_output, label):\n",
    "#     predict_right = np.argmax(nn_output, axis = 1)\n",
    "    label_flag = np.zeros(np.shape(nn_output))\n",
    "    for i in range(batch_size):\n",
    "        label_flag[i,label[i]] = 1\n",
    "        label_flag \n",
    "        Fi_yi = nn_output[i, label[i]]\n",
    "    \n",
    "#     Fi_yi = np.sum(label_flag * nn_output, axis=1)\n",
    "    sum_exp_Fik = np.sum(np.exp(nn_output), axis = 1)\n",
    "    log_sum_exp_Fik = np.log(sum_exp_Fik)\n",
    "    sum_subtract = np.sum((Fi_yi - log_sum_exp_Fik), axis= 0)\n",
    "    \n",
    "    L = (-1 / batch_size) * sum_subtract\n",
    "    \n",
    "    class_sum = np.sum(nn_output, axis= 1)\n",
    "    subtrator = np.divide(np.exp(nn_output) , class_sum.shape((-1,1)))\n",
    "    one_judge = label_flag\n",
    "    \n",
    "    diff_F = (-1 / batch_size) * (one_judge - subtrator)\n",
    "    \n",
    "    return L, diff_F\n",
    "\n",
    "# Affine backward\n",
    "def af_backward(dZ, cache):\n",
    "#     dZ : 250 * 3\n",
    "#     weight : 256 * 3\n",
    "#     A_ik : 250 * 3\n",
    "# dA2, dW3, db3 = af_backward(dF, acache3)\n",
    "    A_ik, weight = cache \n",
    "    width, height = A_ik.shape()[1], dZ.shape()[1]\n",
    "    dW = np.zeros(width, height)\n",
    "    for i in range(width):\n",
    "        for j in range(height):\n",
    "                dW[i,j] = A_ik[:,i].dot(dF[:,j])\n",
    "    for i in range(batch_size):\n",
    "        for j in range(width):\n",
    "            dA[i,j] = dZ[i,:].dot(weight[j,:])\n",
    "    db = np.sum(dZ, axis = 0)\n",
    "    return dA, dW, db\n",
    "\n",
    "# ReLU backward\n",
    "def rl_backward(dA, cache):\n",
    "    Z = cache \n",
    "    dZ = np.zeros(np.shape(dA))\n",
    "    dZ = np.copy(dA)[Z > 0] \n",
    "    \n",
    "    return dZ\n",
    "\n",
    "# update weights \n",
    "def update(w0, dw):\n",
    "    W = w0 + dw * learning_rate\n",
    "    return W\n"
   ]
  },
  {
   "cell_type": "code",
   "execution_count": 22,
   "metadata": {},
   "outputs": [
    {
     "ename": "NameError",
     "evalue": "name 'neural_network' is not defined",
     "output_type": "error",
     "traceback": [
      "\u001b[1;31m---------------------------------------------------------------------------\u001b[0m",
      "\u001b[1;31mNameError\u001b[0m                                 Traceback (most recent call last)",
      "\u001b[1;32m<ipython-input-22-0b6348d64929>\u001b[0m in \u001b[0;36m<module>\u001b[1;34m()\u001b[0m\n\u001b[0;32m     25\u001b[0m \u001b[1;31m#         print('epoch %2d, batch round %2d' % (e,i) )\u001b[0m\u001b[1;33m\u001b[0m\u001b[1;33m\u001b[0m\u001b[0m\n\u001b[0;32m     26\u001b[0m \u001b[1;31m#         print('loss calculated:' + str(loss))\u001b[0m\u001b[1;33m\u001b[0m\u001b[1;33m\u001b[0m\u001b[0m\n\u001b[1;32m---> 27\u001b[1;33m \u001b[0mloss\u001b[0m \u001b[1;33m=\u001b[0m \u001b[0mneural_network\u001b[0m\u001b[1;33m(\u001b[0m\u001b[0mtrain_data\u001b[0m\u001b[1;33m,\u001b[0m \u001b[0mweights\u001b[0m\u001b[1;33m,\u001b[0m \u001b[0mbias\u001b[0m\u001b[1;33m,\u001b[0m \u001b[0mtrain_label\u001b[0m\u001b[1;33m,\u001b[0m \u001b[1;32mFalse\u001b[0m\u001b[1;33m)\u001b[0m\u001b[1;33m\u001b[0m\u001b[0m\n\u001b[0m",
      "\u001b[1;31mNameError\u001b[0m: name 'neural_network' is not defined"
     ]
    }
   ],
   "source": [
    "# def mini_batched(data, epoch):\n",
    "# minibach\n",
    "epoch = 2\n",
    "batch_size = 250\n",
    "N = train_data.shape[0]\n",
    "feature_number = [train_data.shape[1], 256, 256, 3]\n",
    "weights = []\n",
    "bias    = []\n",
    "learning_rate = 0.1\n",
    "for i in range(3):\n",
    "    weights.append(np.random.random_sample((feature_number[i], feature_number[i+1])))\n",
    "    bias.append(np.random.random_sample((batch_size, feature_number[i+1])))\n",
    "scale_factor = 1     \n",
    "weights = scale_factor * weights\n",
    "bias = scale_factor * bias\n",
    "\n",
    "# for e in range(1, epoch):\n",
    "#     np.random.shuffle(train_set)\n",
    "    \n",
    "#     for i in range(1,N//batch_size):\n",
    "#     for i in range(1,2):\n",
    "#         train_data = train_set[batch_size * (i-1):batch_size * i, 0:5]\n",
    "#         train_label = train_set[batch_size * (i-1):batch_size * i, 5]\n",
    "#         loss = neural_network(train_data, weights, bias, train_label, None)\n",
    "#         print('epoch %2d, batch round %2d' % (e,i) )\n",
    "#         print('loss calculated:' + str(loss))\n",
    "loss = neural_network(train_data, weights, bias, train_label, False)\n"
   ]
  },
  {
   "cell_type": "code",
   "execution_count": null,
   "metadata": {
    "collapsed": true
   },
   "outputs": [],
   "source": [
    "a = 3 \n",
    "b =6 "
   ]
  },
  {
   "cell_type": "code",
   "execution_count": 85,
   "metadata": {},
   "outputs": [
    {
     "name": "stdout",
     "output_type": "stream",
     "text": [
      "epoch   3, batch round   6 \n"
     ]
    }
   ],
   "source": [
    "print('epoch %3d, batch round %3d ' % (a,b))"
   ]
  },
  {
   "cell_type": "code",
   "execution_count": null,
   "metadata": {
    "collapsed": true
   },
   "outputs": [],
   "source": []
  }
 ],
 "metadata": {
  "kernelspec": {
   "display_name": "Python 3",
   "language": "python",
   "name": "python3"
  }
 },
 "nbformat": 4,
 "nbformat_minor": 2
}
