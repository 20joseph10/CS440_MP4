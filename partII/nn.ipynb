{
 "cells": [
  {
   "cell_type": "code",
   "execution_count": 73,
   "metadata": {
    "collapsed": true
   },
   "outputs": [],
   "source": [
    "import numpy as np\n",
    "import matplotlib "
   ]
  },
  {
   "cell_type": "code",
   "execution_count": 74,
   "metadata": {
    "collapsed": true
   },
   "outputs": [],
   "source": [
    "# read train_set\n",
    "train_set = []\n",
    "with open('train_set.txt') as f:\n",
    "    content = f.readlines()\n",
    "for i in content:\n",
    "    train_set.append(i.strip().split())\n",
    "train_set = np.array(train_set).astype('float')\n",
    "\n",
    "train_data = train_set[:, 0:5]\n",
    "train_label = train_set[:, 5] # 1d"
   ]
  },
  {
   "cell_type": "code",
   "execution_count": 123,
   "metadata": {},
   "outputs": [],
   "source": [
    "# Affine forward\n",
    "def af_forward(x, weight, bias):\n",
    "    Z = x @ weight + bias\n",
    "    cache = np.copy(x)\n",
    "    return Z, (cache, weight)\n",
    "\n",
    "# ReLU forward\n",
    "def rl_forward(z):\n",
    "    A = np.copy(z)\n",
    "    A[A < 0 ] = 0\n",
    "    cache = np.copy(z)\n",
    "    return A, cache\n",
    "\n",
    "# loss function\n",
    "def cross_entropy(nn_output, label):\n",
    "#     predict_right = np.argmax(nn_output, axis = 1)\n",
    "    label_flag = np.zeros(np.shape(nn_output))\n",
    "    for i in range(batch_size):\n",
    "        label_flag[i,label[i]] = 1\n",
    "        Fi_yi = nn_output[i, label[i]]\n",
    "    \n",
    "#     Fi_yi = np.sum(label_flag * nn_output, axis=1)\n",
    "    sum_exp_Fik = np.sum(np.exp(nn_output), axis = 1)\n",
    "    log_sum_exp_Fik = np.log(sum_exp_Fik)\n",
    "    L = np.sum( (-1 / batch_size) * Fi_yi) - (-1 / batch_size) * log_sum_exp_Fik\n",
    "    \n",
    "    class_sum = np.sum(nn_output, axis= 1)\n",
    "    subtrator = np.divide(np.exp(nn_output) , class_sum.reshape((-1,1)))\n",
    "    one_judge = label_flag\n",
    "    \n",
    "    diff_F = (-1 / batch_size) * (one_judge - subtrator)\n",
    "    \n",
    "    return L, diff_F\n",
    "\n",
    "# Affine backward\n",
    "def af_backward(dZ, cache):\n",
    "#     dZ : 250 * 3\n",
    "#     weight : 256 * 3\n",
    "#     A_ik : 250 * 256\n",
    "# dA2, dW3, db3 = af_backward(dF, acache3)\n",
    "    A_ik, weight = cache \n",
    "    width, height = np.shape(A_ik)[1], np.shape(dZ)[1]\n",
    "    dW = np.zeros((width, height))\n",
    "    dA = np.zeros((batch_size, width))\n",
    "    for i in range(width):\n",
    "        for j in range(height):\n",
    "                dW[i,j] = A_ik[:,i].dot(dZ[:,j])\n",
    "    for i in range(batch_size):\n",
    "        for j in range(width):\n",
    "            dA[i,j] = dZ[i,:].dot(weight[j,:])\n",
    "    db = np.sum(dZ, axis = 0)\n",
    "    return dA, dW, db\n",
    "\n",
    "# ReLU backward\n",
    "def rl_backward(dA, cache):\n",
    "    Z = cache \n",
    "    dZ = np.copy(dA)\n",
    "    dZ[ Z < 0 ] = 0\n",
    "    return dZ\n",
    "\n",
    "# update weights \n",
    "def update(w0, dw):\n",
    "    W = w0 + dw * learning_rate\n",
    "    return W\n"
   ]
  },
  {
   "cell_type": "code",
   "execution_count": 124,
   "metadata": {
    "collapsed": true
   },
   "outputs": [],
   "source": [
    "# Testing\n",
    "batch_size = 250\n",
    "N = train_data.shape[0]\n",
    "feature_number = [train_data.shape[1], 256, 256, 3]\n",
    "weights = []\n",
    "bias    = []\n",
    "learning_rate = 1\n",
    "for i in range(3):\n",
    "    weights.append(np.random.random_sample((feature_number[i], feature_number[i+1])))\n",
    "    bias.append(np.random.random_sample((batch_size, feature_number[i+1])))\n",
    "scale_factor = 1     \n",
    "weights_1 = scale_factor * weights\n",
    "bias_1 = scale_factor * bias\n",
    "train_data_1 = train_set[0: batch_size, 0:5]\n",
    "train_label_1 = train_set[0: batch_size, 5].astype(np.int32)"
   ]
  },
  {
   "cell_type": "code",
   "execution_count": 126,
   "metadata": {},
   "outputs": [
    {
     "name": "stderr",
     "output_type": "stream",
     "text": [
      "C:\\Users\\Xiaocong\\Anaconda3\\lib\\site-packages\\ipykernel_launcher.py:23: RuntimeWarning: overflow encountered in exp\n",
      "C:\\Users\\Xiaocong\\Anaconda3\\lib\\site-packages\\ipykernel_launcher.py:28: RuntimeWarning: overflow encountered in exp\n"
     ]
    }
   ],
   "source": [
    "# def nn(train_input, weights, bias, train_label, test = False):\n",
    "train_input, weights, bias, train_label, test = train_data_1, weights_1,bias_1, train_label_1, False\n",
    "#     '''\n",
    "#     train_input: \n",
    "#     weights    :\n",
    "#     bias       :\n",
    "#     train_label:\n",
    "#     test       :\n",
    "#     '''\n",
    "Z1, acache1 = af_forward(train_input, weights[0], bias[0])\n",
    "A1, rcache1 = rl_forward(Z1)\n",
    "Z2, acache2 = af_forward(A1, weights[1], bias[1])\n",
    "A2, rcache2 = rl_forward(Z2)\n",
    "F , acache3 = af_forward(A2, weights[2], bias[2])\n",
    "\n",
    "# acache = input, curret_weight\n",
    "#     acache1 : 250 * 5,  5 * 256\n",
    "#     acache2 : 250 * 256, 256 * 256\n",
    "#     acache3 : 250 * 256  , 256 * 3\n",
    "\n",
    "#     #test\n",
    "#     if test == True:\n",
    "#         classification = np.argmax(F, axis=1)\n",
    "#         return classification\n",
    "\n",
    "#loss calculation\n",
    "loss, dF = cross_entropy(F, train_label)\n",
    "\n",
    "dA2, dW3, db3 = af_backward(dF, acache3)\n",
    "dZ2 = rl_backward(dA2, rcache2)\n",
    "dA1, dW2, db2 = af_backward(dZ2, acache2)\n",
    "dZ1 = rl_backward(dA1, rcache1)\n",
    "dX, dW1, db1 = af_backward(dZ1, acache1)\n",
    "\n",
    "# #update weight\n",
    "# update(W1, dW1, b, db1)\n",
    "# update(W2, dW2, b  db2)\n",
    "# update(W3, dW3, b, db3)\n",
    "\n",
    "\n",
    "\n",
    "# return loss"
   ]
  },
  {
   "cell_type": "code",
   "execution_count": null,
   "metadata": {},
   "outputs": [],
   "source": []
  },
  {
   "cell_type": "code",
   "execution_count": 13,
   "metadata": {},
   "outputs": [],
   "source": [
    "# # def mini_batched(data, epoch):\n",
    "# # minibach\n",
    "# epoch = 2\n",
    "# batch_size = 250\n",
    "# N = train_data.shape[0]\n",
    "# feature_number = [train_data.shape[1], 256, 256, 3]\n",
    "# weights = []\n",
    "# bias    = []\n",
    "# learning_rate = 0.1\n",
    "# for i in range(3):\n",
    "#     weights.append(np.random.random_sample((feature_number[i], feature_number[i+1])))\n",
    "#     bias.append(np.random.random_sample((batch_size, feature_number[i+1])))\n",
    "# scale_factor = 1     \n",
    "# weights = scale_factor * weights\n",
    "# bias = scale_factor * bias\n",
    "\n",
    "# for e in range(1, epoch):\n",
    "# #     np.random.shuffle(train_set)\n",
    "    \n",
    "# #     for i in range(1,N//batch_size):\n",
    "#     for i in range(1,2):\n",
    "#         train_data = train_set[batch_size * (i-1):batch_size * i, 0:5]\n",
    "#         train_label = train_set[batch_size * (i-1):batch_size * i, 5]\n",
    "#         loss = nn(train_data, weights, bias, train_label, None)\n",
    "# #         print('epoch %2d, batch round %2d' % (e,i) )\n",
    "# #         print('loss calculated:' + str(loss))\n",
    "\n"
   ]
  }
 ],
 "metadata": {
  "kernelspec": {
   "display_name": "Python 3",
   "language": "python",
   "name": "python3"
  },
  "language_info": {
   "codemirror_mode": {
    "name": "ipython",
    "version": 3
   },
   "file_extension": ".py",
   "mimetype": "text/x-python",
   "name": "python",
   "nbconvert_exporter": "python",
   "pygments_lexer": "ipython3",
   "version": "3.6.3"
  }
 },
 "nbformat": 4,
 "nbformat_minor": 2
}
