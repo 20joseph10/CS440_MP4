{
 "cells": [
  {
   "cell_type": "code",
   "execution_count": 10,
   "metadata": {
    "collapsed": true
   },
   "outputs": [],
   "source": [
    "import numpy as np\n",
    "import matplotlib "
   ]
  },
  {
   "cell_type": "code",
   "execution_count": null,
   "metadata": {
    "collapsed": true
   },
   "outputs": [],
   "source": [
    "# read train_set\n",
    "train_set = []\n",
    "with open('train_set.txt') as f:\n",
    "    content = f.readlines()\n",
    "for i in content:\n",
    "    train_set.append(i.strip().split())\n",
    "train_set = np.array(train_set).astype('float')\n",
    "\n",
    "train_data = train_set[:, 0:5]\n",
    "train_label = train_set[:, 5] # 1d"
   ]
  },
  {
   "cell_type": "code",
   "execution_count": 33,
   "metadata": {
    "collapsed": true
   },
   "outputs": [],
   "source": [
    "# neural network \n",
    "def nuerual_network(train_input, weights, bias, train_label, test = None):\n",
    "    Z1, acache1 = af_forward(train_input[0], weights[0], bias[0])\n",
    "    A1, rcache1 = rl_forward(Z1)\n",
    "    Z2, acache2 = af_forward(A1, weights[1], bias[1])\n",
    "    A2, rcache2 = rl_forward(Z2)\n",
    "    F , acache3 = af_forward(A2, weights[2], bias[2])\n",
    "\n",
    "    #test\n",
    "    if test == True:\n",
    "        classification = np.argmax(F, axis=1)\n",
    "        return classification\n",
    "\n",
    "    #loss calculation\n",
    "    loss, dF = cross_entropy(F, train_label)\n",
    "    dA2, dW3, db3 = af_backward(dF, acache3)\n",
    "    dZ2 = af_backward(dA2, rcache2)\n",
    "    dA1, dW2, db2 = af_backward(dZ2, acache2)\n",
    "    dZ1 = af_backward(dA1, rcache1)\n",
    "    dX, dW1, db1 = af_backward(dZ1, acache1)\n",
    "\n",
    "    #update weight\n",
    "    update(eta, dW1)\n",
    "\n",
    "    return loss\n",
    "\n",
    "# affine forward\n",
    "def af_forward(input, weight, bias):\n",
    "\n",
    "    return dZ, cache\n",
    "\n",
    "# ReLU forward\n",
    "def rl_forward(input):\n",
    "\n",
    "    return dA, cache\n",
    "\n",
    "# loss function\n",
    "def cross_entropy(nn_output, label):\n",
    "\n",
    "    return L, diff_F\n",
    "\n",
    "# affine backward\n",
    "def af_backward(diff_F, cache):\n",
    "\n",
    "    return dA, dW, db\n",
    "\n",
    "# ReLU backward\n",
    "def rl_backward(dA, cache):\n",
    "\n",
    "    return dZ\n",
    "\n",
    "def update():\n",
    "    \n",
    "    return 0\n"
   ]
  },
  {
   "cell_type": "code",
   "execution_count": 59,
   "metadata": {
    "collapsed": true
   },
   "outputs": [],
   "source": [
    "# def mini_batched(data, epoch):\n",
    "# minibach\n",
    "epoch = 2\n",
    "batch_size = 250\n",
    "N = train_data.shape[0]\n",
    "feature_number = [train_data.shape[1], 20, 40, 10]\n",
    "weights = []\n",
    "for i in range(3):\n",
    "    weights.append(np.zeros((feature_number[i], feature_number[i+1])))\n",
    "\n",
    "for e in range(1, epoch):\n",
    "    np.random.shuffle(train_set)\n",
    "    \n",
    "#     for i in range(1,N//batch_size):\n",
    "    for i in range(1,2):\n",
    "        train_data = train_set[batch_size * (i-1):batch_size * i, 0:5]\n",
    "        train_label = train_set[batch_size * (i-1):batch_size * i, 5]\n",
    "        loss = neural_network(train_data, weights, bias, train_label)\n"
   ]
  },
  {
   "cell_type": "code",
   "execution_count": null,
   "metadata": {
    "collapsed": true
   },
   "outputs": [],
   "source": []
  },
  {
   "cell_type": "code",
   "execution_count": null,
   "metadata": {
    "collapsed": true
   },
   "outputs": [],
   "source": []
  }
 ],
 "metadata": {
  "kernelspec": {
   "display_name": "Python 3",
   "language": "python",
   "name": "python3"
  },
  "language_info": {
   "codemirror_mode": {
    "name": "ipython",
    "version": 3
   },
   "file_extension": ".py",
   "mimetype": "text/x-python",
   "name": "python",
   "nbconvert_exporter": "python",
   "pygments_lexer": "ipython3",
   "version": "3.6.3"
  }
 },
 "nbformat": 4,
 "nbformat_minor": 2
}
